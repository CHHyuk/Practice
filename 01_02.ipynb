{
  "nbformat": 4,
  "nbformat_minor": 0,
  "metadata": {
    "colab": {
      "provenance": [],
      "authorship_tag": "ABX9TyNM1wJY3IWpRm8WsjlfeKlX",
      "include_colab_link": true
    },
    "kernelspec": {
      "name": "python3",
      "display_name": "Python 3"
    },
    "language_info": {
      "name": "python"
    }
  },
  "cells": [
    {
      "cell_type": "markdown",
      "metadata": {
        "id": "view-in-github",
        "colab_type": "text"
      },
      "source": [
        "<a href=\"https://colab.research.google.com/github/CHHyuk/Practice/blob/main/01_02.ipynb\" target=\"_parent\"><img src=\"https://colab.research.google.com/assets/colab-badge.svg\" alt=\"Open In Colab\"/></a>"
      ]
    },
    {
      "cell_type": "code",
      "execution_count": 98,
      "metadata": {
        "colab": {
          "base_uri": "https://localhost:8080/"
        },
        "id": "fiO6tMcO-FE_",
        "outputId": "d897c444-c826-46e8-b089-a509b3a52c06"
      },
      "outputs": [
        {
          "output_type": "stream",
          "name": "stdout",
          "text": [
            "<class 'numpy.ndarray'>\n",
            "<class 'list'>\n"
          ]
        }
      ],
      "source": [
        "import numpy as np\n",
        "# ndArray\n",
        "\n",
        "# 1차원 ndArray 생성\n",
        "np.array([1,2,3,4])\n",
        "arr1 = np.array([1,2,3,4]) # 넘파이 ndArray\n",
        "arr2 = [1,2,3,4] # 파이썬 리스트\n",
        "\n",
        "print(type(arr1))\n",
        "print(type(arr2))"
      ]
    },
    {
      "cell_type": "code",
      "source": [
        "# 2차원 ndArray 생성\n",
        "arr2 = np.array([[1,2,3,4],\n",
        "                 [5,6,7,8]])\n",
        "print('2차원 배열 arr2')\n",
        "print(arr2)\n",
        "\n",
        "# 3차원 nbArray 생성\n",
        "arr3 = np.array([[[1.0,2.0,3,4],[5,6,7,8]],\n",
        "                  [[1,2,3,4],[5,6,7,8]]])\n",
        "print('3차원 배열 arr3')\n",
        "print(arr3)"
      ],
      "metadata": {
        "colab": {
          "base_uri": "https://localhost:8080/"
        },
        "id": "4EZBDMD9_HTd",
        "outputId": "d9ac8fc5-72c3-41c3-e34b-063e9f6e1242"
      },
      "execution_count": 99,
      "outputs": [
        {
          "output_type": "stream",
          "name": "stdout",
          "text": [
            "2차원 배열 arr2\n",
            "[[1 2 3 4]\n",
            " [5 6 7 8]]\n",
            "3차원 배열 arr3\n",
            "[[[1. 2. 3. 4.]\n",
            "  [5. 6. 7. 8.]]\n",
            "\n",
            " [[1. 2. 3. 4.]\n",
            "  [5. 6. 7. 8.]]]\n"
          ]
        }
      ]
    },
    {
      "cell_type": "code",
      "source": [
        "# ndarray.ndim\n",
        "print(arr1.ndim)\n",
        "print(arr2.ndim)\n",
        "print(arr3.ndim)\n",
        "\n",
        "# ndarray.shape\n",
        "print(arr1.shape)\n",
        "print(arr2.shape)\n",
        "print(arr3.shape)\n",
        "\n",
        "# ndarray.size\n",
        "print(arr1.size)\n",
        "print(arr2.size)\n",
        "print(arr3.size)\n",
        "\n",
        "# ndarray.dtype\n",
        "print(arr1.dtype)\n",
        "print(arr2.dtype)\n",
        "print(arr3.dtype)"
      ],
      "metadata": {
        "colab": {
          "base_uri": "https://localhost:8080/"
        },
        "id": "mGaBTskJCvRx",
        "outputId": "e6b49d4e-7b49-4c8f-f0c9-46404fb2423c"
      },
      "execution_count": 100,
      "outputs": [
        {
          "output_type": "stream",
          "name": "stdout",
          "text": [
            "1\n",
            "2\n",
            "3\n",
            "(4,)\n",
            "(2, 4)\n",
            "(2, 2, 4)\n",
            "4\n",
            "8\n",
            "16\n",
            "int64\n",
            "int64\n",
            "float64\n"
          ]
        }
      ]
    },
    {
      "cell_type": "code",
      "source": [
        "# 배열 생성 함수\n",
        "# 0으로 채워진 행렬\n",
        "arr_0 = np.zeros((3,4))\n",
        "print(arr_0, type(arr_0))\n",
        "\n",
        "# 1로 채워진 행렬\n",
        "arr_1 = np.ones((2,3,4))\n",
        "print(arr_1)\n",
        "\n",
        "# i로 채워진 행렬\n",
        "arr_i = np.full((4,4),3) # 4x4 행렬을 3으로 채워준다\n",
        "print(arr_i)\n",
        "\n",
        "# like > 다른 배열의 모양을 본따서\n",
        "print(np.zeros_like(arr2))\n",
        "print(np.ones_like(arr2))\n",
        "print(np.full_like(arr2,3))"
      ],
      "metadata": {
        "colab": {
          "base_uri": "https://localhost:8080/"
        },
        "id": "jy7M7vJoJd8j",
        "outputId": "be029b6e-81d6-48c8-f054-47eb28f81f98"
      },
      "execution_count": 101,
      "outputs": [
        {
          "output_type": "stream",
          "name": "stdout",
          "text": [
            "[[0. 0. 0. 0.]\n",
            " [0. 0. 0. 0.]\n",
            " [0. 0. 0. 0.]] <class 'numpy.ndarray'>\n",
            "[[[1. 1. 1. 1.]\n",
            "  [1. 1. 1. 1.]\n",
            "  [1. 1. 1. 1.]]\n",
            "\n",
            " [[1. 1. 1. 1.]\n",
            "  [1. 1. 1. 1.]\n",
            "  [1. 1. 1. 1.]]]\n",
            "[[3 3 3 3]\n",
            " [3 3 3 3]\n",
            " [3 3 3 3]\n",
            " [3 3 3 3]]\n",
            "[[0 0 0 0]\n",
            " [0 0 0 0]]\n",
            "[[1 1 1 1]\n",
            " [1 1 1 1]]\n",
            "[[3 3 3 3]\n",
            " [3 3 3 3]]\n"
          ]
        }
      ]
    },
    {
      "cell_type": "code",
      "source": [
        "# random > 난수 발생\n",
        "np.random.seed(1) # 최초 난수 생성 기준\n",
        "\n",
        "# -100 ~ 100 사이의 정수로 3 x 3 행렬 생성\n",
        "np.random.randint(-100,100,(3,3))\n",
        "\n",
        "# 0 ~ 10 사이의 정수로 2 x 2 x 3 행렬 생성\n",
        "np.random.randint(0,10,(2,2,3))"
      ],
      "metadata": {
        "colab": {
          "base_uri": "https://localhost:8080/"
        },
        "id": "DN5a_tLqMkpg",
        "outputId": "b41633cd-c43b-4cfa-ac64-6595ee5ae124"
      },
      "execution_count": 102,
      "outputs": [
        {
          "output_type": "execute_result",
          "data": {
            "text/plain": [
              "array([[[7, 6, 9],\n",
              "        [2, 4, 5]],\n",
              "\n",
              "       [[2, 4, 2],\n",
              "        [4, 7, 7]]])"
            ]
          },
          "metadata": {},
          "execution_count": 102
        }
      ]
    },
    {
      "cell_type": "code",
      "source": [
        "# 인덱싱\n",
        "li = [1,2,3,4]\n",
        "li[0] # 원하는 요소에 접근하는 방식\n",
        "\n",
        "# 1차원 배열의 인덱싱\n",
        "arr1[0] # 한개에 접근\n",
        "\n",
        "# 1차원 슬라이싱\n",
        "# arr1 = np.array([1,2,3,4])\n",
        "arr1[1:3:1] # [시작, 끝, 보폭]\n",
        "\n",
        "# 2차원 배열의 인덱싱\n",
        "# arr2 = np.array([[1,2,3,4],\n",
        "#                 [5,6,7,8]])\n",
        "print(arr2[0,1])\n",
        "print(arr2[1,2])\n",
        "\n",
        "# 2차원 슬라이싱\n",
        "arr2[1:2:,1:3:]\n",
        "\n",
        "# fancy 인덱싱\n",
        "# 원하는 인덱스를 배열로 넘겨주는 인덱싱\n",
        "# 1차원\n",
        "arr1[[0,1,3]]\n",
        "\n",
        "# 2차원\n",
        "arr2[[0,1],[1,3]]\n",
        "arr2[::,[0,3]]\n",
        "\n",
        "# 논리값 인덱싱\n",
        "arr1[[True, False, True, False]]\n",
        "arr1[arr1 > 2]"
      ],
      "metadata": {
        "colab": {
          "base_uri": "https://localhost:8080/"
        },
        "id": "Z1PIS_9dOqjK",
        "outputId": "e2aa63d6-7914-4da2-d127-deddeff6c0d4"
      },
      "execution_count": 103,
      "outputs": [
        {
          "output_type": "stream",
          "name": "stdout",
          "text": [
            "2\n",
            "7\n"
          ]
        },
        {
          "output_type": "execute_result",
          "data": {
            "text/plain": [
              "array([3, 4])"
            ]
          },
          "metadata": {},
          "execution_count": 103
        }
      ]
    },
    {
      "cell_type": "code",
      "source": [
        "# -10 ~10 사이의 정수로 (3,4) 모양의 배열을 만들고 arr1에 저장\n",
        "arr1 = np.random.randint(-10,10,(3,4))\n",
        "print(arr1)\n",
        "# 아래와 같은 2차원 배열을 만들고 arr2에 저장\n",
        "# 1,2,3,4\n",
        "# 5,6,7,8\n",
        "# 9,10,11,12\n",
        "# 13,14,15,16\n",
        "arr2 = np.array([[1,2,3,4],\n",
        "                 [5,6,7,8],\n",
        "                 [9,10,11,12],\n",
        "                 [13,14,15,16]])\n",
        "print(arr2)\n",
        "\n",
        "# 1. 각 배열의 차원, 모양, 원소의 갯수를 확인\n",
        "print('arr1의 차원, 모양, 원소개수')\n",
        "print(arr1.ndim)\n",
        "print(arr1.shape)\n",
        "print(arr1.size)\n",
        "print('arr2의 차원, 모양, 원소개수')\n",
        "print(arr2.ndim)\n",
        "print(arr2.shape)\n",
        "print(arr3.size)\n",
        "# 2. arr1에서 행은 모두 출력하고 열은 첫번째, 세번째만 출력\n",
        "print(arr1[::,[0,2]])\n",
        "\n",
        "# 3. arr2에서 아래처럼 나오게 인덱싱해주세요\n",
        "# [6, 7]\n",
        "# [10, 11]\n",
        "print(arr2[1:3,1:3])"
      ],
      "metadata": {
        "colab": {
          "base_uri": "https://localhost:8080/"
        },
        "id": "4MeXlxqJXDF6",
        "outputId": "6be23a8b-92af-4b7e-f43c-17e17e22104b"
      },
      "execution_count": 106,
      "outputs": [
        {
          "output_type": "stream",
          "name": "stdout",
          "text": [
            "[[  2   6   3   9]\n",
            " [ -1   8   5 -10]\n",
            " [ -6   5  -8  -3]]\n",
            "[[ 1  2  3  4]\n",
            " [ 5  6  7  8]\n",
            " [ 9 10 11 12]\n",
            " [13 14 15 16]]\n",
            "arr1의 차원, 모양, 원소개수\n",
            "2\n",
            "(3, 4)\n",
            "12\n",
            "arr2의 차원, 모양, 원소개수\n",
            "2\n",
            "(4, 4)\n",
            "16\n",
            "[[ 2  3]\n",
            " [-1  5]\n",
            " [-6 -8]]\n",
            "[[ 6  7]\n",
            " [10 11]]\n"
          ]
        }
      ]
    }
  ]
}