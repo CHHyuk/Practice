{
  "nbformat": 4,
  "nbformat_minor": 0,
  "metadata": {
    "colab": {
      "provenance": [],
      "authorship_tag": "ABX9TyPlvo6JYiSixsdfYbdUx5k2",
      "include_colab_link": true
    },
    "kernelspec": {
      "name": "python3",
      "display_name": "Python 3"
    },
    "language_info": {
      "name": "python"
    }
  },
  "cells": [
    {
      "cell_type": "markdown",
      "metadata": {
        "id": "view-in-github",
        "colab_type": "text"
      },
      "source": [
        "<a href=\"https://colab.research.google.com/github/CHHyuk/Practice/blob/main/pandas_practice.ipynb\" target=\"_parent\"><img src=\"https://colab.research.google.com/assets/colab-badge.svg\" alt=\"Open In Colab\"/></a>"
      ]
    },
    {
      "cell_type": "code",
      "execution_count": 13,
      "metadata": {
        "colab": {
          "base_uri": "https://localhost:8080/"
        },
        "id": "hzGfzqtSkDjL",
        "outputId": "34a05963-e08a-4d07-d0a0-28af25237381"
      },
      "outputs": [
        {
          "output_type": "stream",
          "name": "stdout",
          "text": [
            "                       Name  Age     Sex\n",
            "0   Braund, Mr. Owen Harris   22    male\n",
            "1  Allen, Mr. William Henry   35    male\n",
            "2  Bonnell, Miss. Elizabeth   58  female\n",
            "\n",
            "\n",
            "0    22\n",
            "1    35\n",
            "2    58\n",
            "Name: Age, dtype: int64\n",
            "\n",
            "\n",
            "0     Braund, Mr. Owen Harris\n",
            "1    Allen, Mr. William Henry\n",
            "2    Bonnell, Miss. Elizabeth\n",
            "Name: Name, dtype: object\n",
            "\n",
            "\n",
            "0      male\n",
            "1      male\n",
            "2    female\n",
            "Name: Sex, dtype: object\n",
            "\n",
            "\n",
            "             Age\n",
            "count   3.000000\n",
            "mean   38.333333\n",
            "std    18.230012\n",
            "min    22.000000\n",
            "25%    28.500000\n",
            "50%    35.000000\n",
            "75%    46.500000\n",
            "max    58.000000\n",
            "\n",
            "\n",
            "<class 'pandas.core.frame.DataFrame'>\n",
            "RangeIndex: 3 entries, 0 to 2\n",
            "Data columns (total 3 columns):\n",
            " #   Column  Non-Null Count  Dtype \n",
            "---  ------  --------------  ----- \n",
            " 0   Name    3 non-null      object\n",
            " 1   Age     3 non-null      int64 \n",
            " 2   Sex     3 non-null      object\n",
            "dtypes: int64(1), object(2)\n",
            "memory usage: 200.0+ bytes\n",
            "None\n"
          ]
        }
      ],
      "source": [
        "import pandas as pd\n",
        "\n",
        "df = pd.DataFrame(\n",
        "    {\n",
        "        \"Name\": [\n",
        "            \"Braund, Mr. Owen Harris\",\n",
        "            \"Allen, Mr. William Henry\",\n",
        "            \"Bonnell, Miss. Elizabeth\",\n",
        "        ],\n",
        "        \"Age\": [22, 35, 58],\n",
        "        \"Sex\": [\"male\", \"male\", \"female\"],\n",
        "    }\n",
        ")\n",
        "\n",
        "print(df)\n",
        "print('\\n')\n",
        "print(df['Age'])\n",
        "print('\\n')\n",
        "print(df['Name'])\n",
        "print('\\n')\n",
        "print(df['Sex'])\n",
        "print('\\n')\n",
        "print(df.describe()) # 숫자로 이루어진 행만 표현됨\n",
        "print('\\n')\n",
        "print(df.info())"
      ]
    },
    {
      "cell_type": "code",
      "source": [
        "ages = pd.Series([22, 35, 58], name=\"Age\")\n",
        "\n",
        "print(ages)\n",
        "df['Age']\n",
        "\n",
        "print('최대 나이 : ', df['Age'].max())\n",
        "print('평균 나이 : ', df['Age'].mean())"
      ],
      "metadata": {
        "colab": {
          "base_uri": "https://localhost:8080/"
        },
        "id": "lyKzwB0xrpUJ",
        "outputId": "190f87bb-9544-4eba-b430-c144ab40887b"
      },
      "execution_count": 12,
      "outputs": [
        {
          "output_type": "stream",
          "name": "stdout",
          "text": [
            "0    22\n",
            "1    35\n",
            "2    58\n",
            "Name: Age, dtype: int64\n",
            "최대 나이 :  58\n",
            "평균 나이 :  38.333333333333336\n"
          ]
        }
      ]
    }
  ]
}