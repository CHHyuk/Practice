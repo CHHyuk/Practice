{
  "nbformat": 4,
  "nbformat_minor": 0,
  "metadata": {
    "colab": {
      "provenance": [],
      "authorship_tag": "ABX9TyN4AyfRPYY4bY7cfAYyrZZ4",
      "include_colab_link": true
    },
    "kernelspec": {
      "name": "python3",
      "display_name": "Python 3"
    },
    "language_info": {
      "name": "python"
    }
  },
  "cells": [
    {
      "cell_type": "markdown",
      "metadata": {
        "id": "view-in-github",
        "colab_type": "text"
      },
      "source": [
        "<a href=\"https://colab.research.google.com/github/CHHyuk/Practice/blob/main/pandas2.ipynb\" target=\"_parent\"><img src=\"https://colab.research.google.com/assets/colab-badge.svg\" alt=\"Open In Colab\"/></a>"
      ]
    },
    {
      "cell_type": "code",
      "execution_count": null,
      "metadata": {
        "id": "qVrpIABasj7P"
      },
      "outputs": [],
      "source": []
    },
    {
      "cell_type": "code",
      "execution_count": null,
      "metadata": {
        "id": "eDVDFysCTq_h"
      },
      "outputs": [],
      "source": [
        "# 머신러닝의 스텝\n",
        "# 데이터 수집 -> 학습 -> 테스트 -> 수정/개선 -> 다시 학습\n",
        "# Get Data -> Clean, Prepare & Manipulate Data -> Train Model -> Test Data -> Improve\n",
        "\n",
        "# data 분리\n",
        "# training set, validation set, testing set\n",
        "\n",
        "# 예측 prediction\n",
        "# accuracy 정확도"
      ]
    },
    {
      "cell_type": "code",
      "source": [
        "# 결정 트리 (Decision Tree) - 의사 결정 나무, 의사 결정 트리\n",
        "# 캐글 - https://www.kaggle.com/datasets  데이터 모음\n",
        "\n",
        "# 전형적인 분류 모델\n",
        "# 직관적인 방법\n",
        "# 다른 모델과 달리 결과물이 시각적으로 읽히기 쉬운형태 -> visual 하게 나온다\n",
        "\n",
        "# ex) 대출을 원하는 사람의 신용평가, 독버섯과 버섯의 분류, 실질적인 분류\n",
        "\n",
        "# 오버피팅 -> 너무 많이 나눴을때 오히려 정확도가 떨어짐"
      ],
      "metadata": {
        "id": "YBK7E5eKVDAc"
      },
      "execution_count": null,
      "outputs": []
    },
    {
      "cell_type": "code",
      "source": [
        "from sklearn.tree import DecisionTreeClassifier"
      ],
      "metadata": {
        "id": "mfEAnLrCXNGA"
      },
      "execution_count": null,
      "outputs": []
    },
    {
      "cell_type": "code",
      "source": [
        "# column 1 - 날개가 있나요?\n",
        "# column 2 - 날 수 있나요?\n",
        "# column 3 - 지느러미가 있나요?\n",
        "x_train = [\n",
        "    [1,1,0], # 매 - 1\n",
        "    [1,0,0], # 펭귄 - 2\n",
        "    [0,0,1], # 돌고래 - 3\n",
        "    [0,0,0]  # 곰 - 4\n",
        "  ]\n",
        "\n",
        "y_train = [[1],[2],[3],[4]]\n",
        "\n",
        "print(x_train)\n",
        "print(y_train)\n",
        "\n",
        "DecisionTreeClfModel1 = DecisionTreeClassifier()\n",
        "\n",
        "DecisionTreeClfModel1.fit(x_train,y_train)\n",
        "\n",
        "x_test = [[1,0,0]] # 날개가 있고, 날수 없음, 지느러미는 없다 -> 펭귄\n",
        "\n",
        "y_pred = DecisionTreeClfModel1.predict(x_test)\n",
        "print(y_pred)\n",
        "\n",
        "x_test2 = [[1,0,-1]] # 날개가 있고,  날수 없고, 지느러미는 모르겠다\n",
        "\n",
        "y_pred2 = DecisionTreeClfModel1.predict(x_test2)\n",
        "print(y_pred2)\n",
        "\n",
        "x_test3 = [[1,0.5,-1]] # 날개가 있고,  날수 있는 확률 50%, 지느러미는 모르겠다\n",
        "\n",
        "y_pred3 = DecisionTreeClfModel1.predict(x_test3)\n",
        "print(y_pred3)\n",
        "\n",
        "x_test4 = [[1,0.8,-1]] # 날개가 있고,  날수 있는 확률 80%, 지느러미는 모르겠다\n",
        "\n",
        "y_pred4 = DecisionTreeClfModel1.predict(x_test4)\n",
        "print(y_pred4)"
      ],
      "metadata": {
        "colab": {
          "base_uri": "https://localhost:8080/"
        },
        "id": "U9httKbPZAPP",
        "outputId": "19495d33-765b-4ff6-aaf5-1cddac4dcecd"
      },
      "execution_count": null,
      "outputs": [
        {
          "output_type": "stream",
          "name": "stdout",
          "text": [
            "[[1, 1, 0], [1, 0, 0], [0, 0, 1], [0, 0, 0]]\n",
            "[[1], [2], [3], [4]]\n",
            "[2]\n",
            "[2]\n",
            "[2]\n",
            "[1]\n"
          ]
        }
      ]
    },
    {
      "cell_type": "code",
      "source": [
        "# 장점 - 쉽고 직관적, 각 피처의 스케일링과 정규화 같은 전처리 작업의 영향도가 크지 않다\n",
        "# 단점 = 규칙을 추가하며, 서브트리를 만들어 나갈수록 모델이 복잡해지고, 과적합에 빠지기 쉽다"
      ],
      "metadata": {
        "id": "Xf6kos_UcqbL"
      },
      "execution_count": null,
      "outputs": []
    },
    {
      "cell_type": "code",
      "source": [
        "# https://quickdraw.withgoogle.com/ -> 이미지 데이터를 기반으로 맞춘다"
      ],
      "metadata": {
        "id": "1Nqhy9lNutrV"
      },
      "execution_count": null,
      "outputs": []
    },
    {
      "cell_type": "code",
      "source": [
        "from sklearn.tree import DecisionTreeClassifier\n",
        "# 시각화\n",
        "from sklearn.tree import export_graphviz\n",
        "from sklearn import tree\n",
        "from IPython.display import SVG\n",
        "from graphviz import Source\n",
        "from IPython.display import display\n",
        "\n",
        "# 소개팅 예제\n",
        "# [column 0 - ID 고유번호는 포함시키지 않음]\n",
        "# column 1 - 성격: 1(high), 2(mid), 3(low)\n",
        "# column 2 - 경제력: 1(high), 2(mid), 3(low)\n",
        "# column 3 - 외모: 1(high), 2(low)\n",
        "# column 4 - 성공\n",
        "x_train = [\n",
        "           [1, 1, 2], # ID = 1\n",
        "           [1, 2, 1], # ID = 2\n",
        "           [1, 3, 2], # ID = 3 Fail   \n",
        "           [2, 1, 1], # ID = 4\n",
        "           [2, 2, 2], # ID = 5 Fail\n",
        "           [2, 3, 1], # ID = 6 Fail\n",
        "           [3, 1, 2], # ID = 7\n",
        "           [3, 2, 1], # ID = 8\n",
        "           [3, 3, 2], # ID = 9 Fail\n",
        "           [1, 3, 1]  # ID = 10 Fail\n",
        "           ]\n",
        "y_train = [\n",
        "           [1], # ID = 1\n",
        "           [1], # ID = 2\n",
        "           [0], # ID = 3\n",
        "           [1], # ID = 4\n",
        "           [0], # ID = 5\n",
        "           [0], # ID = 6\n",
        "           [1], # ID = 7\n",
        "           [1], # ID = 8\n",
        "           [0], # ID = 9\n",
        "           [0]  # ID = 10\n",
        "          ]\n",
        "\n",
        "print(x_train)\n",
        "print(y_train)\n",
        "\n",
        "DecisionTreeClfModel1 = DecisionTreeClassifier()\n",
        "\n",
        "DecisionTreeClfModel1.fit(x_train,y_train)\n",
        "\n",
        "x_test = [[1,1,1]] \n",
        "\n",
        "y_pred = DecisionTreeClfModel1.predict(x_test)\n",
        "print(y_pred)\n",
        "\n",
        "x_test2 = [[1,2,2]] \n",
        "\n",
        "y_pred2 = DecisionTreeClfModel1.predict(x_test2)\n",
        "print(y_pred2)\n",
        "\n",
        "\n",
        "x_test3 = [[2,1,2]] \n",
        "\n",
        "y_pred3 = DecisionTreeClfModel1.predict(x_test3)\n",
        "print(y_pred3)\n",
        "\n",
        "x_test4 = [[2,2,1]] \n",
        "\n",
        "y_pred4 = DecisionTreeClfModel1.predict(x_test4)\n",
        "print(y_pred4)\n",
        "\n",
        "x_test5 = [[2,3,2]] \n",
        "\n",
        "y_pred5 = DecisionTreeClfModel1.predict(x_test5)\n",
        "print(y_pred5)\n",
        "\n",
        "x_test6 = [[3,1,1]] \n",
        "\n",
        "y_pred6 = DecisionTreeClfModel1.predict(x_test6)\n",
        "print(y_pred6)\n",
        "\n",
        "x_test7 = [[3,2,2]] \n",
        "\n",
        "y_pred7 = DecisionTreeClfModel1.predict(x_test7)\n",
        "print(y_pred7)\n",
        "\n",
        "x_test8 = [[3,3,1]] \n",
        "\n",
        "y_pred8 = DecisionTreeClfModel1.predict(x_test8)\n",
        "print(y_pred8)\n",
        "\n",
        "# 시각화\n",
        "labels = ['성격','경제력','외모']\n",
        "y_labels = ['실패', '성공']\n",
        "graph = Source(tree.export_graphviz(DecisionTreeClfModel1 ,feature_names = labels, class_names = y_labels , filled = True))\n",
        "display(SVG(graph.pipe(format='svg')))\n"
      ],
      "metadata": {
        "colab": {
          "base_uri": "https://localhost:8080/",
          "height": 781
        },
        "id": "w7tCdQOevBms",
        "outputId": "9b2b006b-e29b-4ad6-e3f1-6834b78e56b1"
      },
      "execution_count": null,
      "outputs": [
        {
          "output_type": "stream",
          "name": "stdout",
          "text": [
            "[[1, 1, 2], [1, 2, 1], [1, 3, 2], [2, 1, 1], [2, 2, 2], [2, 3, 1], [3, 1, 2], [3, 2, 1], [3, 3, 2], [1, 3, 1]]\n",
            "[[1], [1], [0], [1], [0], [0], [1], [1], [0], [0]]\n",
            "[1]\n",
            "[0]\n",
            "[1]\n",
            "[1]\n",
            "[0]\n",
            "[1]\n",
            "[0]\n",
            "[0]\n"
          ]
        },
        {
          "output_type": "display_data",
          "data": {
            "text/plain": [
              "<IPython.core.display.SVG object>"
            ],
            "image/svg+xml": "<svg height=\"433pt\" viewBox=\"0.00 0.00 285.00 433.00\" width=\"285pt\" xmlns=\"http://www.w3.org/2000/svg\" xmlns:xlink=\"http://www.w3.org/1999/xlink\">\n<g class=\"graph\" id=\"graph0\" transform=\"scale(1 1) rotate(0) translate(4 429)\">\n<title>Tree</title>\n<polygon fill=\"#ffffff\" points=\"-4,4 -4,-429 281,-429 281,4 -4,4\" stroke=\"transparent\"/>\n<!-- 0 -->\n<g class=\"node\" id=\"node1\">\n<title>0</title>\n<polygon fill=\"#ffffff\" points=\"219.5,-425 115.5,-425 115.5,-342 219.5,-342 219.5,-425\" stroke=\"#000000\"/>\n<text fill=\"#000000\" font-family=\"Helvetica,sans-Serif\" font-size=\"14.00\" text-anchor=\"middle\" x=\"167.5\" y=\"-409.8\">경제력 &lt;= 2.5</text>\n<text fill=\"#000000\" font-family=\"Helvetica,sans-Serif\" font-size=\"14.00\" text-anchor=\"middle\" x=\"167.5\" y=\"-394.8\">gini = 0.5</text>\n<text fill=\"#000000\" font-family=\"Helvetica,sans-Serif\" font-size=\"14.00\" text-anchor=\"middle\" x=\"167.5\" y=\"-379.8\">samples = 10</text>\n<text fill=\"#000000\" font-family=\"Helvetica,sans-Serif\" font-size=\"14.00\" text-anchor=\"middle\" x=\"167.5\" y=\"-364.8\">value = [5, 5]</text>\n<text fill=\"#000000\" font-family=\"Helvetica,sans-Serif\" font-size=\"14.00\" text-anchor=\"middle\" x=\"167.5\" y=\"-349.8\">class = 실패</text>\n</g>\n<!-- 1 -->\n<g class=\"node\" id=\"node2\">\n<title>1</title>\n<polygon fill=\"#61b1ea\" points=\"159.5,-306 55.5,-306 55.5,-223 159.5,-223 159.5,-306\" stroke=\"#000000\"/>\n<text fill=\"#000000\" font-family=\"Helvetica,sans-Serif\" font-size=\"14.00\" text-anchor=\"middle\" x=\"107.5\" y=\"-290.8\">경제력 &lt;= 1.5</text>\n<text fill=\"#000000\" font-family=\"Helvetica,sans-Serif\" font-size=\"14.00\" text-anchor=\"middle\" x=\"107.5\" y=\"-275.8\">gini = 0.278</text>\n<text fill=\"#000000\" font-family=\"Helvetica,sans-Serif\" font-size=\"14.00\" text-anchor=\"middle\" x=\"107.5\" y=\"-260.8\">samples = 6</text>\n<text fill=\"#000000\" font-family=\"Helvetica,sans-Serif\" font-size=\"14.00\" text-anchor=\"middle\" x=\"107.5\" y=\"-245.8\">value = [1, 5]</text>\n<text fill=\"#000000\" font-family=\"Helvetica,sans-Serif\" font-size=\"14.00\" text-anchor=\"middle\" x=\"107.5\" y=\"-230.8\">class = 성공</text>\n</g>\n<!-- 0&#45;&gt;1 -->\n<g class=\"edge\" id=\"edge1\">\n<title>0-&gt;1</title>\n<path d=\"M146.5149,-341.8796C142.201,-333.3236 137.6128,-324.2238 133.1554,-315.3833\" fill=\"none\" stroke=\"#000000\"/>\n<polygon fill=\"#000000\" points=\"136.2021,-313.6515 128.5747,-306.2981 129.9516,-316.8031 136.2021,-313.6515\" stroke=\"#000000\"/>\n<text fill=\"#000000\" font-family=\"Helvetica,sans-Serif\" font-size=\"14.00\" text-anchor=\"middle\" x=\"120.7486\" y=\"-326.3416\">True</text>\n</g>\n<!-- 6 -->\n<g class=\"node\" id=\"node7\">\n<title>6</title>\n<polygon fill=\"#e58139\" points=\"277,-298.5 178,-298.5 178,-230.5 277,-230.5 277,-298.5\" stroke=\"#000000\"/>\n<text fill=\"#000000\" font-family=\"Helvetica,sans-Serif\" font-size=\"14.00\" text-anchor=\"middle\" x=\"227.5\" y=\"-283.3\">gini = 0.0</text>\n<text fill=\"#000000\" font-family=\"Helvetica,sans-Serif\" font-size=\"14.00\" text-anchor=\"middle\" x=\"227.5\" y=\"-268.3\">samples = 4</text>\n<text fill=\"#000000\" font-family=\"Helvetica,sans-Serif\" font-size=\"14.00\" text-anchor=\"middle\" x=\"227.5\" y=\"-253.3\">value = [4, 0]</text>\n<text fill=\"#000000\" font-family=\"Helvetica,sans-Serif\" font-size=\"14.00\" text-anchor=\"middle\" x=\"227.5\" y=\"-238.3\">class = 실패</text>\n</g>\n<!-- 0&#45;&gt;6 -->\n<g class=\"edge\" id=\"edge6\">\n<title>0-&gt;6</title>\n<path d=\"M188.4851,-341.8796C194.0293,-330.8835 200.0264,-318.9893 205.6169,-307.9015\" fill=\"none\" stroke=\"#000000\"/>\n<polygon fill=\"#000000\" points=\"208.8214,-309.3199 210.1984,-298.8149 202.5709,-306.1684 208.8214,-309.3199\" stroke=\"#000000\"/>\n<text fill=\"#000000\" font-family=\"Helvetica,sans-Serif\" font-size=\"14.00\" text-anchor=\"middle\" x=\"218.0244\" y=\"-318.8584\">False</text>\n</g>\n<!-- 2 -->\n<g class=\"node\" id=\"node3\">\n<title>2</title>\n<polygon fill=\"#399de5\" points=\"99,-179.5 0,-179.5 0,-111.5 99,-111.5 99,-179.5\" stroke=\"#000000\"/>\n<text fill=\"#000000\" font-family=\"Helvetica,sans-Serif\" font-size=\"14.00\" text-anchor=\"middle\" x=\"49.5\" y=\"-164.3\">gini = 0.0</text>\n<text fill=\"#000000\" font-family=\"Helvetica,sans-Serif\" font-size=\"14.00\" text-anchor=\"middle\" x=\"49.5\" y=\"-149.3\">samples = 3</text>\n<text fill=\"#000000\" font-family=\"Helvetica,sans-Serif\" font-size=\"14.00\" text-anchor=\"middle\" x=\"49.5\" y=\"-134.3\">value = [0, 3]</text>\n<text fill=\"#000000\" font-family=\"Helvetica,sans-Serif\" font-size=\"14.00\" text-anchor=\"middle\" x=\"49.5\" y=\"-119.3\">class = 성공</text>\n</g>\n<!-- 1&#45;&gt;2 -->\n<g class=\"edge\" id=\"edge2\">\n<title>1-&gt;2</title>\n<path d=\"M87.2144,-222.8796C81.855,-211.8835 76.0578,-199.9893 70.6537,-188.9015\" fill=\"none\" stroke=\"#000000\"/>\n<polygon fill=\"#000000\" points=\"73.7524,-187.2706 66.2249,-179.8149 67.46,-190.3375 73.7524,-187.2706\" stroke=\"#000000\"/>\n</g>\n<!-- 3 -->\n<g class=\"node\" id=\"node4\">\n<title>3</title>\n<polygon fill=\"#9ccef2\" points=\"216,-187 117,-187 117,-104 216,-104 216,-187\" stroke=\"#000000\"/>\n<text fill=\"#000000\" font-family=\"Helvetica,sans-Serif\" font-size=\"14.00\" text-anchor=\"middle\" x=\"166.5\" y=\"-171.8\">외모 &lt;= 1.5</text>\n<text fill=\"#000000\" font-family=\"Helvetica,sans-Serif\" font-size=\"14.00\" text-anchor=\"middle\" x=\"166.5\" y=\"-156.8\">gini = 0.444</text>\n<text fill=\"#000000\" font-family=\"Helvetica,sans-Serif\" font-size=\"14.00\" text-anchor=\"middle\" x=\"166.5\" y=\"-141.8\">samples = 3</text>\n<text fill=\"#000000\" font-family=\"Helvetica,sans-Serif\" font-size=\"14.00\" text-anchor=\"middle\" x=\"166.5\" y=\"-126.8\">value = [1, 2]</text>\n<text fill=\"#000000\" font-family=\"Helvetica,sans-Serif\" font-size=\"14.00\" text-anchor=\"middle\" x=\"166.5\" y=\"-111.8\">class = 성공</text>\n</g>\n<!-- 1&#45;&gt;3 -->\n<g class=\"edge\" id=\"edge3\">\n<title>1-&gt;3</title>\n<path d=\"M128.1353,-222.8796C132.3774,-214.3236 136.889,-205.2238 141.2721,-196.3833\" fill=\"none\" stroke=\"#000000\"/>\n<polygon fill=\"#000000\" points=\"144.4703,-197.8121 145.7766,-187.2981 138.1988,-194.7026 144.4703,-197.8121\" stroke=\"#000000\"/>\n</g>\n<!-- 4 -->\n<g class=\"node\" id=\"node5\">\n<title>4</title>\n<polygon fill=\"#399de5\" points=\"157,-68 58,-68 58,0 157,0 157,-68\" stroke=\"#000000\"/>\n<text fill=\"#000000\" font-family=\"Helvetica,sans-Serif\" font-size=\"14.00\" text-anchor=\"middle\" x=\"107.5\" y=\"-52.8\">gini = 0.0</text>\n<text fill=\"#000000\" font-family=\"Helvetica,sans-Serif\" font-size=\"14.00\" text-anchor=\"middle\" x=\"107.5\" y=\"-37.8\">samples = 2</text>\n<text fill=\"#000000\" font-family=\"Helvetica,sans-Serif\" font-size=\"14.00\" text-anchor=\"middle\" x=\"107.5\" y=\"-22.8\">value = [0, 2]</text>\n<text fill=\"#000000\" font-family=\"Helvetica,sans-Serif\" font-size=\"14.00\" text-anchor=\"middle\" x=\"107.5\" y=\"-7.8\">class = 성공</text>\n</g>\n<!-- 3&#45;&gt;4 -->\n<g class=\"edge\" id=\"edge4\">\n<title>3-&gt;4</title>\n<path d=\"M144.5306,-103.9815C139.9105,-95.2504 135.0264,-86.0202 130.374,-77.2281\" fill=\"none\" stroke=\"#000000\"/>\n<polygon fill=\"#000000\" points=\"133.4013,-75.4655 125.6306,-68.2637 127.2141,-78.7395 133.4013,-75.4655\" stroke=\"#000000\"/>\n</g>\n<!-- 5 -->\n<g class=\"node\" id=\"node6\">\n<title>5</title>\n<polygon fill=\"#e58139\" points=\"274,-68 175,-68 175,0 274,0 274,-68\" stroke=\"#000000\"/>\n<text fill=\"#000000\" font-family=\"Helvetica,sans-Serif\" font-size=\"14.00\" text-anchor=\"middle\" x=\"224.5\" y=\"-52.8\">gini = 0.0</text>\n<text fill=\"#000000\" font-family=\"Helvetica,sans-Serif\" font-size=\"14.00\" text-anchor=\"middle\" x=\"224.5\" y=\"-37.8\">samples = 1</text>\n<text fill=\"#000000\" font-family=\"Helvetica,sans-Serif\" font-size=\"14.00\" text-anchor=\"middle\" x=\"224.5\" y=\"-22.8\">value = [1, 0]</text>\n<text fill=\"#000000\" font-family=\"Helvetica,sans-Serif\" font-size=\"14.00\" text-anchor=\"middle\" x=\"224.5\" y=\"-7.8\">class = 실패</text>\n</g>\n<!-- 3&#45;&gt;5 -->\n<g class=\"edge\" id=\"edge5\">\n<title>3-&gt;5</title>\n<path d=\"M188.0971,-103.9815C192.6388,-95.2504 197.4402,-86.0202 202.0137,-77.2281\" fill=\"none\" stroke=\"#000000\"/>\n<polygon fill=\"#000000\" points=\"205.1669,-78.7504 206.6767,-68.2637 198.9569,-75.52 205.1669,-78.7504\" stroke=\"#000000\"/>\n</g>\n</g>\n</svg>"
          },
          "metadata": {}
        }
      ]
    },
    {
      "cell_type": "code",
      "source": [
        "# 시각화 \n",
        "# GINI Index 지니계수\n",
        "# 전체 box 안에 특정 class에 속하는 관측치의 비율을 모두 제외한 값\n",
        "# 수가 작으면 좋은"
      ],
      "metadata": {
        "id": "99OO6e_s8kpY"
      },
      "execution_count": null,
      "outputs": []
    },
    {
      "cell_type": "code",
      "source": [
        "# 실습 2\n",
        "import pandas as pd\n",
        "# 어떤 회사와 직업이 $100,000 이상 연봉인가?\n",
        "# pandas 이용해서 csv 파일 가져오기\n",
        "df = pd.read_csv(\"salaries.csv\")\n",
        "print(df)"
      ],
      "metadata": {
        "colab": {
          "base_uri": "https://localhost:8080/"
        },
        "id": "RXyF6FEi9okH",
        "outputId": "79ee33cd-1b64-4737-cb88-291dc34fd8d5"
      },
      "execution_count": null,
      "outputs": [
        {
          "output_type": "stream",
          "name": "stdout",
          "text": [
            "       company                  job     degree  salary_more_then_100k\n",
            "0       boogle      sales executive  bachelors                      0\n",
            "1       boogle      sales executive    masters                      0\n",
            "2       boogle     business manager  bachelors                      1\n",
            "3       boogle     business manager    masters                      1\n",
            "4       boogle  computer programmer  bachelors                      0\n",
            "5       boogle  computer programmer    masters                      1\n",
            "6   abc pharma      sales executive    masters                      0\n",
            "7   abc pharma  computer programmer  bachelors                      0\n",
            "8   abc pharma     business manager  bachelors                      0\n",
            "9   abc pharma     business manager    masters                      1\n",
            "10    facemook      sales executive  bachelors                      1\n",
            "11    facemook      sales executive    masters                      1\n",
            "12    facemook     business manager  bachelors                      1\n",
            "13    facemook     business manager    masters                      1\n",
            "14    facemook  computer programmer  bachelors                      1\n",
            "15    facemook  computer programmer    masters                      1\n"
          ]
        }
      ]
    },
    {
      "cell_type": "code",
      "source": [
        "# 인코딩\n",
        "from sklearn.preprocessing import LabelEncoder\n"
      ],
      "metadata": {
        "id": "TuPwAuccBM38"
      },
      "execution_count": null,
      "outputs": []
    },
    {
      "cell_type": "code",
      "source": [
        "# inputs = drop 사용하여 3 column\n",
        "# df에서 'salary_more_then_100k'의 column이 빠진다\n",
        "inputs = df.drop('salary_more_then_100k',axis = 'columns')\n",
        "print(inputs)\n",
        "\n",
        "#target = salay_mor_than_100k\n",
        "target = df['salary_more_then_100k']\n",
        "print(target)"
      ],
      "metadata": {
        "colab": {
          "base_uri": "https://localhost:8080/"
        },
        "id": "j-lBlKVKBTMw",
        "outputId": "e565653c-efca-4684-9ab3-aaeb7e97a167"
      },
      "execution_count": null,
      "outputs": [
        {
          "output_type": "stream",
          "name": "stdout",
          "text": [
            "       company                  job     degree\n",
            "0       boogle      sales executive  bachelors\n",
            "1       boogle      sales executive    masters\n",
            "2       boogle     business manager  bachelors\n",
            "3       boogle     business manager    masters\n",
            "4       boogle  computer programmer  bachelors\n",
            "5       boogle  computer programmer    masters\n",
            "6   abc pharma      sales executive    masters\n",
            "7   abc pharma  computer programmer  bachelors\n",
            "8   abc pharma     business manager  bachelors\n",
            "9   abc pharma     business manager    masters\n",
            "10    facemook      sales executive  bachelors\n",
            "11    facemook      sales executive    masters\n",
            "12    facemook     business manager  bachelors\n",
            "13    facemook     business manager    masters\n",
            "14    facemook  computer programmer  bachelors\n",
            "15    facemook  computer programmer    masters\n",
            "0     0\n",
            "1     0\n",
            "2     1\n",
            "3     1\n",
            "4     0\n",
            "5     1\n",
            "6     0\n",
            "7     0\n",
            "8     0\n",
            "9     1\n",
            "10    1\n",
            "11    1\n",
            "12    1\n",
            "13    1\n",
            "14    1\n",
            "15    1\n",
            "Name: salary_more_then_100k, dtype: int64\n"
          ]
        }
      ]
    },
    {
      "cell_type": "code",
      "source": [
        "le_company = LabelEncoder() # le = label encoder\n",
        "le_job = LabelEncoder()\n",
        "le_degree = LabelEncoder()"
      ],
      "metadata": {
        "id": "hwlqkT3qBt26"
      },
      "execution_count": null,
      "outputs": []
    },
    {
      "cell_type": "code",
      "source": [
        "# company 에 해당하는 text 형태의 값을 숫자로 변환 후 그 값은 새로운 column - company_n 에 저장\n",
        "### company\n",
        "# abc pharma - 0\n",
        "# boogle - 1\n",
        "# facemook - 2\n",
        "### job\n",
        "# business manager - 0\n",
        "# computer programmer - 1\n",
        "# sales executive - 2\n",
        "### degree\n",
        "# masters - 0\n",
        "# bachelors - 1\n",
        "inputs['company_n'] = le_company.fit_transform(inputs['company'])\n",
        "inputs['job_n'] = le_company.fit_transform(inputs['job'])\n",
        "inputs['degree_n'] = le_company.fit_transform(inputs['degree'])\n",
        "print(inputs)"
      ],
      "metadata": {
        "colab": {
          "base_uri": "https://localhost:8080/"
        },
        "id": "aF0BR5x8Bya1",
        "outputId": "a70ec9bb-8062-4105-a063-22b1a895726e"
      },
      "execution_count": null,
      "outputs": [
        {
          "output_type": "stream",
          "name": "stdout",
          "text": [
            "       company                  job     degree  company_n  job_n  degree_n\n",
            "0       boogle      sales executive  bachelors          1      2         0\n",
            "1       boogle      sales executive    masters          1      2         1\n",
            "2       boogle     business manager  bachelors          1      0         0\n",
            "3       boogle     business manager    masters          1      0         1\n",
            "4       boogle  computer programmer  bachelors          1      1         0\n",
            "5       boogle  computer programmer    masters          1      1         1\n",
            "6   abc pharma      sales executive    masters          0      2         1\n",
            "7   abc pharma  computer programmer  bachelors          0      1         0\n",
            "8   abc pharma     business manager  bachelors          0      0         0\n",
            "9   abc pharma     business manager    masters          0      0         1\n",
            "10    facemook      sales executive  bachelors          2      2         0\n",
            "11    facemook      sales executive    masters          2      2         1\n",
            "12    facemook     business manager  bachelors          2      0         0\n",
            "13    facemook     business manager    masters          2      0         1\n",
            "14    facemook  computer programmer  bachelors          2      1         0\n",
            "15    facemook  computer programmer    masters          2      1         1\n"
          ]
        }
      ]
    },
    {
      "cell_type": "code",
      "source": [
        "# company, job, degree column drop\n",
        "inputs_n = inputs.drop(['company', 'job', 'degree'],axis = 'columns')\n",
        "inputs_n"
      ],
      "metadata": {
        "colab": {
          "base_uri": "https://localhost:8080/",
          "height": 551
        },
        "id": "jqWTAUS_C6ZN",
        "outputId": "dfda6400-5ebc-4286-821c-71c56f36b1d8"
      },
      "execution_count": null,
      "outputs": [
        {
          "output_type": "execute_result",
          "data": {
            "text/plain": [
              "    company_n  job_n  degree_n\n",
              "0           1      2         0\n",
              "1           1      2         1\n",
              "2           1      0         0\n",
              "3           1      0         1\n",
              "4           1      1         0\n",
              "5           1      1         1\n",
              "6           0      2         1\n",
              "7           0      1         0\n",
              "8           0      0         0\n",
              "9           0      0         1\n",
              "10          2      2         0\n",
              "11          2      2         1\n",
              "12          2      0         0\n",
              "13          2      0         1\n",
              "14          2      1         0\n",
              "15          2      1         1"
            ],
            "text/html": [
              "\n",
              "  <div id=\"df-a4972102-4263-4587-b613-e9ea39034eaa\">\n",
              "    <div class=\"colab-df-container\">\n",
              "      <div>\n",
              "<style scoped>\n",
              "    .dataframe tbody tr th:only-of-type {\n",
              "        vertical-align: middle;\n",
              "    }\n",
              "\n",
              "    .dataframe tbody tr th {\n",
              "        vertical-align: top;\n",
              "    }\n",
              "\n",
              "    .dataframe thead th {\n",
              "        text-align: right;\n",
              "    }\n",
              "</style>\n",
              "<table border=\"1\" class=\"dataframe\">\n",
              "  <thead>\n",
              "    <tr style=\"text-align: right;\">\n",
              "      <th></th>\n",
              "      <th>company_n</th>\n",
              "      <th>job_n</th>\n",
              "      <th>degree_n</th>\n",
              "    </tr>\n",
              "  </thead>\n",
              "  <tbody>\n",
              "    <tr>\n",
              "      <th>0</th>\n",
              "      <td>1</td>\n",
              "      <td>2</td>\n",
              "      <td>0</td>\n",
              "    </tr>\n",
              "    <tr>\n",
              "      <th>1</th>\n",
              "      <td>1</td>\n",
              "      <td>2</td>\n",
              "      <td>1</td>\n",
              "    </tr>\n",
              "    <tr>\n",
              "      <th>2</th>\n",
              "      <td>1</td>\n",
              "      <td>0</td>\n",
              "      <td>0</td>\n",
              "    </tr>\n",
              "    <tr>\n",
              "      <th>3</th>\n",
              "      <td>1</td>\n",
              "      <td>0</td>\n",
              "      <td>1</td>\n",
              "    </tr>\n",
              "    <tr>\n",
              "      <th>4</th>\n",
              "      <td>1</td>\n",
              "      <td>1</td>\n",
              "      <td>0</td>\n",
              "    </tr>\n",
              "    <tr>\n",
              "      <th>5</th>\n",
              "      <td>1</td>\n",
              "      <td>1</td>\n",
              "      <td>1</td>\n",
              "    </tr>\n",
              "    <tr>\n",
              "      <th>6</th>\n",
              "      <td>0</td>\n",
              "      <td>2</td>\n",
              "      <td>1</td>\n",
              "    </tr>\n",
              "    <tr>\n",
              "      <th>7</th>\n",
              "      <td>0</td>\n",
              "      <td>1</td>\n",
              "      <td>0</td>\n",
              "    </tr>\n",
              "    <tr>\n",
              "      <th>8</th>\n",
              "      <td>0</td>\n",
              "      <td>0</td>\n",
              "      <td>0</td>\n",
              "    </tr>\n",
              "    <tr>\n",
              "      <th>9</th>\n",
              "      <td>0</td>\n",
              "      <td>0</td>\n",
              "      <td>1</td>\n",
              "    </tr>\n",
              "    <tr>\n",
              "      <th>10</th>\n",
              "      <td>2</td>\n",
              "      <td>2</td>\n",
              "      <td>0</td>\n",
              "    </tr>\n",
              "    <tr>\n",
              "      <th>11</th>\n",
              "      <td>2</td>\n",
              "      <td>2</td>\n",
              "      <td>1</td>\n",
              "    </tr>\n",
              "    <tr>\n",
              "      <th>12</th>\n",
              "      <td>2</td>\n",
              "      <td>0</td>\n",
              "      <td>0</td>\n",
              "    </tr>\n",
              "    <tr>\n",
              "      <th>13</th>\n",
              "      <td>2</td>\n",
              "      <td>0</td>\n",
              "      <td>1</td>\n",
              "    </tr>\n",
              "    <tr>\n",
              "      <th>14</th>\n",
              "      <td>2</td>\n",
              "      <td>1</td>\n",
              "      <td>0</td>\n",
              "    </tr>\n",
              "    <tr>\n",
              "      <th>15</th>\n",
              "      <td>2</td>\n",
              "      <td>1</td>\n",
              "      <td>1</td>\n",
              "    </tr>\n",
              "  </tbody>\n",
              "</table>\n",
              "</div>\n",
              "      <button class=\"colab-df-convert\" onclick=\"convertToInteractive('df-a4972102-4263-4587-b613-e9ea39034eaa')\"\n",
              "              title=\"Convert this dataframe to an interactive table.\"\n",
              "              style=\"display:none;\">\n",
              "        \n",
              "  <svg xmlns=\"http://www.w3.org/2000/svg\" height=\"24px\"viewBox=\"0 0 24 24\"\n",
              "       width=\"24px\">\n",
              "    <path d=\"M0 0h24v24H0V0z\" fill=\"none\"/>\n",
              "    <path d=\"M18.56 5.44l.94 2.06.94-2.06 2.06-.94-2.06-.94-.94-2.06-.94 2.06-2.06.94zm-11 1L8.5 8.5l.94-2.06 2.06-.94-2.06-.94L8.5 2.5l-.94 2.06-2.06.94zm10 10l.94 2.06.94-2.06 2.06-.94-2.06-.94-.94-2.06-.94 2.06-2.06.94z\"/><path d=\"M17.41 7.96l-1.37-1.37c-.4-.4-.92-.59-1.43-.59-.52 0-1.04.2-1.43.59L10.3 9.45l-7.72 7.72c-.78.78-.78 2.05 0 2.83L4 21.41c.39.39.9.59 1.41.59.51 0 1.02-.2 1.41-.59l7.78-7.78 2.81-2.81c.8-.78.8-2.07 0-2.86zM5.41 20L4 18.59l7.72-7.72 1.47 1.35L5.41 20z\"/>\n",
              "  </svg>\n",
              "      </button>\n",
              "      \n",
              "  <style>\n",
              "    .colab-df-container {\n",
              "      display:flex;\n",
              "      flex-wrap:wrap;\n",
              "      gap: 12px;\n",
              "    }\n",
              "\n",
              "    .colab-df-convert {\n",
              "      background-color: #E8F0FE;\n",
              "      border: none;\n",
              "      border-radius: 50%;\n",
              "      cursor: pointer;\n",
              "      display: none;\n",
              "      fill: #1967D2;\n",
              "      height: 32px;\n",
              "      padding: 0 0 0 0;\n",
              "      width: 32px;\n",
              "    }\n",
              "\n",
              "    .colab-df-convert:hover {\n",
              "      background-color: #E2EBFA;\n",
              "      box-shadow: 0px 1px 2px rgba(60, 64, 67, 0.3), 0px 1px 3px 1px rgba(60, 64, 67, 0.15);\n",
              "      fill: #174EA6;\n",
              "    }\n",
              "\n",
              "    [theme=dark] .colab-df-convert {\n",
              "      background-color: #3B4455;\n",
              "      fill: #D2E3FC;\n",
              "    }\n",
              "\n",
              "    [theme=dark] .colab-df-convert:hover {\n",
              "      background-color: #434B5C;\n",
              "      box-shadow: 0px 1px 3px 1px rgba(0, 0, 0, 0.15);\n",
              "      filter: drop-shadow(0px 1px 2px rgba(0, 0, 0, 0.3));\n",
              "      fill: #FFFFFF;\n",
              "    }\n",
              "  </style>\n",
              "\n",
              "      <script>\n",
              "        const buttonEl =\n",
              "          document.querySelector('#df-a4972102-4263-4587-b613-e9ea39034eaa button.colab-df-convert');\n",
              "        buttonEl.style.display =\n",
              "          google.colab.kernel.accessAllowed ? 'block' : 'none';\n",
              "\n",
              "        async function convertToInteractive(key) {\n",
              "          const element = document.querySelector('#df-a4972102-4263-4587-b613-e9ea39034eaa');\n",
              "          const dataTable =\n",
              "            await google.colab.kernel.invokeFunction('convertToInteractive',\n",
              "                                                     [key], {});\n",
              "          if (!dataTable) return;\n",
              "\n",
              "          const docLinkHtml = 'Like what you see? Visit the ' +\n",
              "            '<a target=\"_blank\" href=https://colab.research.google.com/notebooks/data_table.ipynb>data table notebook</a>'\n",
              "            + ' to learn more about interactive tables.';\n",
              "          element.innerHTML = '';\n",
              "          dataTable['output_type'] = 'display_data';\n",
              "          await google.colab.output.renderOutput(dataTable, element);\n",
              "          const docLink = document.createElement('div');\n",
              "          docLink.innerHTML = docLinkHtml;\n",
              "          element.appendChild(docLink);\n",
              "        }\n",
              "      </script>\n",
              "    </div>\n",
              "  </div>\n",
              "  "
            ]
          },
          "metadata": {},
          "execution_count": 84
        }
      ]
    },
    {
      "cell_type": "code",
      "source": [
        "from sklearn import tree\n",
        "### company\n",
        "# abc pharma - 0\n",
        "# boogle - 1\n",
        "# facemook - 2\n",
        "### job\n",
        "# business manager - 0\n",
        "# computer programmer - 1\n",
        "# sales executive - 2\n",
        "### degree\n",
        "# masters - 0\n",
        "# bachelors - 1\n",
        "'''\n",
        "x_train = [\n",
        "           [1, 2, 0], \n",
        "           [1, 2, 1], \n",
        "           [1, 0, 0],\n",
        "           [1, 0, 1],\n",
        "           [1, 0, 0], \n",
        "           [1, 0, 1],\n",
        "           [1, 1, ], \n",
        "           [1, 1, 1], \n",
        "           [0, 2, 1], \n",
        "           [0, 1, 0],\n",
        "           [0, 1, 0],\n",
        "           [0, 0, 0], \n",
        "           [0, 0, 1],\n",
        "           [2, 2, 0], \n",
        "           [2, 2, 1],\n",
        "           [2, 0, 0],\n",
        "           [2, 0, 1], \n",
        "           [2, 1, 0],\n",
        "           [2, 2, 1]\n",
        "           ]\n",
        "y_train = [\n",
        "           [0], \n",
        "           [0],\n",
        "           [1], \n",
        "           [1],\n",
        "           [0], \n",
        "           [1], \n",
        "           [0], \n",
        "           [0], \n",
        "           [0], \n",
        "           [1],\n",
        "           [1],\n",
        "           [1],\n",
        "           [1],\n",
        "           [1],  \n",
        "           [1]\n",
        "          ]\n",
        "\n",
        "print(x_train)\n",
        "print(y_train)\n",
        "'''\n",
        "\n",
        "DecisionModel = DecisionTreeClassifier()\n",
        "\n",
        "DecisionModel.fit(inputs_n, target)\n",
        "\n",
        "y_pred = DecisionModel.predict([[1,1,0]])\n",
        "print(y_pred)\n",
        "\n",
        "\n",
        "# 시각화\n",
        "labels = ['company','job','degree']\n",
        "y_labels = ['많다', '아니다']\n",
        "graph = Source(tree.export_graphviz(DecisionModel ,feature_names = labels, class_names = y_labels , filled = True))\n",
        "display(SVG(graph.pipe(format='svg')))"
      ],
      "metadata": {
        "colab": {
          "base_uri": "https://localhost:8080/",
          "height": 811
        },
        "id": "CAqMIRXlD3M4",
        "outputId": "2b92a831-bd74-4f51-b844-216c78a21794"
      },
      "execution_count": null,
      "outputs": [
        {
          "output_type": "stream",
          "name": "stdout",
          "text": [
            "[0]\n"
          ]
        },
        {
          "output_type": "stream",
          "name": "stderr",
          "text": [
            "/usr/local/lib/python3.7/dist-packages/sklearn/base.py:451: UserWarning: X does not have valid feature names, but DecisionTreeClassifier was fitted with feature names\n",
            "  \"X does not have valid feature names, but\"\n"
          ]
        },
        {
          "output_type": "display_data",
          "data": {
            "text/plain": [
              "<IPython.core.display.SVG object>"
            ],
            "image/svg+xml": "<svg height=\"552pt\" viewBox=\"0.00 0.00 540.00 552.00\" width=\"540pt\" xmlns=\"http://www.w3.org/2000/svg\" xmlns:xlink=\"http://www.w3.org/1999/xlink\">\n<g class=\"graph\" id=\"graph0\" transform=\"scale(1 1) rotate(0) translate(4 548)\">\n<title>Tree</title>\n<polygon fill=\"#ffffff\" points=\"-4,4 -4,-548 536,-548 536,4 -4,4\" stroke=\"transparent\"/>\n<!-- 0 -->\n<g class=\"node\" id=\"node1\">\n<title>0</title>\n<polygon fill=\"#b0d8f5\" points=\"421,-544 300,-544 300,-461 421,-461 421,-544\" stroke=\"#000000\"/>\n<text fill=\"#000000\" font-family=\"Helvetica,sans-Serif\" font-size=\"14.00\" text-anchor=\"middle\" x=\"360.5\" y=\"-528.8\">company &lt;= 1.5</text>\n<text fill=\"#000000\" font-family=\"Helvetica,sans-Serif\" font-size=\"14.00\" text-anchor=\"middle\" x=\"360.5\" y=\"-513.8\">gini = 0.469</text>\n<text fill=\"#000000\" font-family=\"Helvetica,sans-Serif\" font-size=\"14.00\" text-anchor=\"middle\" x=\"360.5\" y=\"-498.8\">samples = 16</text>\n<text fill=\"#000000\" font-family=\"Helvetica,sans-Serif\" font-size=\"14.00\" text-anchor=\"middle\" x=\"360.5\" y=\"-483.8\">value = [6, 10]</text>\n<text fill=\"#000000\" font-family=\"Helvetica,sans-Serif\" font-size=\"14.00\" text-anchor=\"middle\" x=\"360.5\" y=\"-468.8\">class = 아니다</text>\n</g>\n<!-- 1 -->\n<g class=\"node\" id=\"node2\">\n<title>1</title>\n<polygon fill=\"#f6d5bd\" points=\"350.5,-425 246.5,-425 246.5,-342 350.5,-342 350.5,-425\" stroke=\"#000000\"/>\n<text fill=\"#000000\" font-family=\"Helvetica,sans-Serif\" font-size=\"14.00\" text-anchor=\"middle\" x=\"298.5\" y=\"-409.8\">job &lt;= 0.5</text>\n<text fill=\"#000000\" font-family=\"Helvetica,sans-Serif\" font-size=\"14.00\" text-anchor=\"middle\" x=\"298.5\" y=\"-394.8\">gini = 0.48</text>\n<text fill=\"#000000\" font-family=\"Helvetica,sans-Serif\" font-size=\"14.00\" text-anchor=\"middle\" x=\"298.5\" y=\"-379.8\">samples = 10</text>\n<text fill=\"#000000\" font-family=\"Helvetica,sans-Serif\" font-size=\"14.00\" text-anchor=\"middle\" x=\"298.5\" y=\"-364.8\">value = [6, 4]</text>\n<text fill=\"#000000\" font-family=\"Helvetica,sans-Serif\" font-size=\"14.00\" text-anchor=\"middle\" x=\"298.5\" y=\"-349.8\">class = 많다</text>\n</g>\n<!-- 0&#45;&gt;1 -->\n<g class=\"edge\" id=\"edge1\">\n<title>0-&gt;1</title>\n<path d=\"M338.8154,-460.8796C334.3577,-452.3236 329.6166,-443.2238 325.0106,-434.3833\" fill=\"none\" stroke=\"#000000\"/>\n<polygon fill=\"#000000\" points=\"328.0017,-432.5494 320.2771,-425.2981 321.7938,-435.7838 328.0017,-432.5494\" stroke=\"#000000\"/>\n<text fill=\"#000000\" font-family=\"Helvetica,sans-Serif\" font-size=\"14.00\" text-anchor=\"middle\" x=\"312.7678\" y=\"-445.4436\">True</text>\n</g>\n<!-- 12 -->\n<g class=\"node\" id=\"node13\">\n<title>12</title>\n<polygon fill=\"#399de5\" points=\"478,-417.5 369,-417.5 369,-349.5 478,-349.5 478,-417.5\" stroke=\"#000000\"/>\n<text fill=\"#000000\" font-family=\"Helvetica,sans-Serif\" font-size=\"14.00\" text-anchor=\"middle\" x=\"423.5\" y=\"-402.3\">gini = 0.0</text>\n<text fill=\"#000000\" font-family=\"Helvetica,sans-Serif\" font-size=\"14.00\" text-anchor=\"middle\" x=\"423.5\" y=\"-387.3\">samples = 6</text>\n<text fill=\"#000000\" font-family=\"Helvetica,sans-Serif\" font-size=\"14.00\" text-anchor=\"middle\" x=\"423.5\" y=\"-372.3\">value = [0, 6]</text>\n<text fill=\"#000000\" font-family=\"Helvetica,sans-Serif\" font-size=\"14.00\" text-anchor=\"middle\" x=\"423.5\" y=\"-357.3\">class = 아니다</text>\n</g>\n<!-- 0&#45;&gt;12 -->\n<g class=\"edge\" id=\"edge12\">\n<title>0-&gt;12</title>\n<path d=\"M382.5343,-460.8796C388.3558,-449.8835 394.6527,-437.9893 400.5227,-426.9015\" fill=\"none\" stroke=\"#000000\"/>\n<polygon fill=\"#000000\" points=\"403.7476,-428.2905 405.3333,-417.8149 397.5611,-425.0152 403.7476,-428.2905\" stroke=\"#000000\"/>\n<text fill=\"#000000\" font-family=\"Helvetica,sans-Serif\" font-size=\"14.00\" text-anchor=\"middle\" x=\"412.6854\" y=\"-438.0094\">False</text>\n</g>\n<!-- 2 -->\n<g class=\"node\" id=\"node3\">\n<title>2</title>\n<polygon fill=\"#7bbeee\" points=\"290,-306 181,-306 181,-223 290,-223 290,-306\" stroke=\"#000000\"/>\n<text fill=\"#000000\" font-family=\"Helvetica,sans-Serif\" font-size=\"14.00\" text-anchor=\"middle\" x=\"235.5\" y=\"-290.8\">degree &lt;= 0.5</text>\n<text fill=\"#000000\" font-family=\"Helvetica,sans-Serif\" font-size=\"14.00\" text-anchor=\"middle\" x=\"235.5\" y=\"-275.8\">gini = 0.375</text>\n<text fill=\"#000000\" font-family=\"Helvetica,sans-Serif\" font-size=\"14.00\" text-anchor=\"middle\" x=\"235.5\" y=\"-260.8\">samples = 4</text>\n<text fill=\"#000000\" font-family=\"Helvetica,sans-Serif\" font-size=\"14.00\" text-anchor=\"middle\" x=\"235.5\" y=\"-245.8\">value = [1, 3]</text>\n<text fill=\"#000000\" font-family=\"Helvetica,sans-Serif\" font-size=\"14.00\" text-anchor=\"middle\" x=\"235.5\" y=\"-230.8\">class = 아니다</text>\n</g>\n<!-- 1&#45;&gt;2 -->\n<g class=\"edge\" id=\"edge2\">\n<title>1-&gt;2</title>\n<path d=\"M276.4657,-341.8796C271.936,-333.3236 267.1185,-324.2238 262.4382,-315.3833\" fill=\"none\" stroke=\"#000000\"/>\n<polygon fill=\"#000000\" points=\"265.4006,-313.4983 257.6284,-306.2981 259.2141,-316.7736 265.4006,-313.4983\" stroke=\"#000000\"/>\n</g>\n<!-- 7 -->\n<g class=\"node\" id=\"node8\">\n<title>7</title>\n<polygon fill=\"#ea9a61\" points=\"411,-306 312,-306 312,-223 411,-223 411,-306\" stroke=\"#000000\"/>\n<text fill=\"#000000\" font-family=\"Helvetica,sans-Serif\" font-size=\"14.00\" text-anchor=\"middle\" x=\"361.5\" y=\"-290.8\">job &lt;= 1.5</text>\n<text fill=\"#000000\" font-family=\"Helvetica,sans-Serif\" font-size=\"14.00\" text-anchor=\"middle\" x=\"361.5\" y=\"-275.8\">gini = 0.278</text>\n<text fill=\"#000000\" font-family=\"Helvetica,sans-Serif\" font-size=\"14.00\" text-anchor=\"middle\" x=\"361.5\" y=\"-260.8\">samples = 6</text>\n<text fill=\"#000000\" font-family=\"Helvetica,sans-Serif\" font-size=\"14.00\" text-anchor=\"middle\" x=\"361.5\" y=\"-245.8\">value = [5, 1]</text>\n<text fill=\"#000000\" font-family=\"Helvetica,sans-Serif\" font-size=\"14.00\" text-anchor=\"middle\" x=\"361.5\" y=\"-230.8\">class = 많다</text>\n</g>\n<!-- 1&#45;&gt;7 -->\n<g class=\"edge\" id=\"edge7\">\n<title>1-&gt;7</title>\n<path d=\"M320.5343,-341.8796C325.064,-333.3236 329.8815,-324.2238 334.5618,-315.3833\" fill=\"none\" stroke=\"#000000\"/>\n<polygon fill=\"#000000\" points=\"337.7859,-316.7736 339.3716,-306.2981 331.5994,-313.4983 337.7859,-316.7736\" stroke=\"#000000\"/>\n</g>\n<!-- 3 -->\n<g class=\"node\" id=\"node4\">\n<title>3</title>\n<polygon fill=\"#ffffff\" points=\"163,-187 42,-187 42,-104 163,-104 163,-187\" stroke=\"#000000\"/>\n<text fill=\"#000000\" font-family=\"Helvetica,sans-Serif\" font-size=\"14.00\" text-anchor=\"middle\" x=\"102.5\" y=\"-171.8\">company &lt;= 0.5</text>\n<text fill=\"#000000\" font-family=\"Helvetica,sans-Serif\" font-size=\"14.00\" text-anchor=\"middle\" x=\"102.5\" y=\"-156.8\">gini = 0.5</text>\n<text fill=\"#000000\" font-family=\"Helvetica,sans-Serif\" font-size=\"14.00\" text-anchor=\"middle\" x=\"102.5\" y=\"-141.8\">samples = 2</text>\n<text fill=\"#000000\" font-family=\"Helvetica,sans-Serif\" font-size=\"14.00\" text-anchor=\"middle\" x=\"102.5\" y=\"-126.8\">value = [1, 1]</text>\n<text fill=\"#000000\" font-family=\"Helvetica,sans-Serif\" font-size=\"14.00\" text-anchor=\"middle\" x=\"102.5\" y=\"-111.8\">class = 많다</text>\n</g>\n<!-- 2&#45;&gt;3 -->\n<g class=\"edge\" id=\"edge3\">\n<title>2-&gt;3</title>\n<path d=\"M188.9831,-222.8796C178.6152,-213.6031 167.5329,-203.6874 156.8801,-194.1559\" fill=\"none\" stroke=\"#000000\"/>\n<polygon fill=\"#000000\" points=\"159.0017,-191.3577 149.2155,-187.2981 154.3341,-196.5744 159.0017,-191.3577\" stroke=\"#000000\"/>\n</g>\n<!-- 6 -->\n<g class=\"node\" id=\"node7\">\n<title>6</title>\n<polygon fill=\"#399de5\" points=\"290,-179.5 181,-179.5 181,-111.5 290,-111.5 290,-179.5\" stroke=\"#000000\"/>\n<text fill=\"#000000\" font-family=\"Helvetica,sans-Serif\" font-size=\"14.00\" text-anchor=\"middle\" x=\"235.5\" y=\"-164.3\">gini = 0.0</text>\n<text fill=\"#000000\" font-family=\"Helvetica,sans-Serif\" font-size=\"14.00\" text-anchor=\"middle\" x=\"235.5\" y=\"-149.3\">samples = 2</text>\n<text fill=\"#000000\" font-family=\"Helvetica,sans-Serif\" font-size=\"14.00\" text-anchor=\"middle\" x=\"235.5\" y=\"-134.3\">value = [0, 2]</text>\n<text fill=\"#000000\" font-family=\"Helvetica,sans-Serif\" font-size=\"14.00\" text-anchor=\"middle\" x=\"235.5\" y=\"-119.3\">class = 아니다</text>\n</g>\n<!-- 2&#45;&gt;6 -->\n<g class=\"edge\" id=\"edge6\">\n<title>2-&gt;6</title>\n<path d=\"M235.5,-222.8796C235.5,-212.2134 235.5,-200.7021 235.5,-189.9015\" fill=\"none\" stroke=\"#000000\"/>\n<polygon fill=\"#000000\" points=\"239.0001,-189.8149 235.5,-179.8149 232.0001,-189.815 239.0001,-189.8149\" stroke=\"#000000\"/>\n</g>\n<!-- 4 -->\n<g class=\"node\" id=\"node5\">\n<title>4</title>\n<polygon fill=\"#e58139\" points=\"99,-68 0,-68 0,0 99,0 99,-68\" stroke=\"#000000\"/>\n<text fill=\"#000000\" font-family=\"Helvetica,sans-Serif\" font-size=\"14.00\" text-anchor=\"middle\" x=\"49.5\" y=\"-52.8\">gini = 0.0</text>\n<text fill=\"#000000\" font-family=\"Helvetica,sans-Serif\" font-size=\"14.00\" text-anchor=\"middle\" x=\"49.5\" y=\"-37.8\">samples = 1</text>\n<text fill=\"#000000\" font-family=\"Helvetica,sans-Serif\" font-size=\"14.00\" text-anchor=\"middle\" x=\"49.5\" y=\"-22.8\">value = [1, 0]</text>\n<text fill=\"#000000\" font-family=\"Helvetica,sans-Serif\" font-size=\"14.00\" text-anchor=\"middle\" x=\"49.5\" y=\"-7.8\">class = 많다</text>\n</g>\n<!-- 3&#45;&gt;4 -->\n<g class=\"edge\" id=\"edge4\">\n<title>3-&gt;4</title>\n<path d=\"M82.7648,-103.9815C78.6582,-95.3423 74.3194,-86.2144 70.1799,-77.5059\" fill=\"none\" stroke=\"#000000\"/>\n<polygon fill=\"#000000\" points=\"73.2409,-75.7927 65.7868,-68.2637 66.9188,-78.7979 73.2409,-75.7927\" stroke=\"#000000\"/>\n</g>\n<!-- 5 -->\n<g class=\"node\" id=\"node6\">\n<title>5</title>\n<polygon fill=\"#399de5\" points=\"226,-68 117,-68 117,0 226,0 226,-68\" stroke=\"#000000\"/>\n<text fill=\"#000000\" font-family=\"Helvetica,sans-Serif\" font-size=\"14.00\" text-anchor=\"middle\" x=\"171.5\" y=\"-52.8\">gini = 0.0</text>\n<text fill=\"#000000\" font-family=\"Helvetica,sans-Serif\" font-size=\"14.00\" text-anchor=\"middle\" x=\"171.5\" y=\"-37.8\">samples = 1</text>\n<text fill=\"#000000\" font-family=\"Helvetica,sans-Serif\" font-size=\"14.00\" text-anchor=\"middle\" x=\"171.5\" y=\"-22.8\">value = [0, 1]</text>\n<text fill=\"#000000\" font-family=\"Helvetica,sans-Serif\" font-size=\"14.00\" text-anchor=\"middle\" x=\"171.5\" y=\"-7.8\">class = 아니다</text>\n</g>\n<!-- 3&#45;&gt;5 -->\n<g class=\"edge\" id=\"edge5\">\n<title>3-&gt;5</title>\n<path d=\"M128.1931,-103.9815C133.6531,-95.1585 139.4284,-85.8258 144.9207,-76.9506\" fill=\"none\" stroke=\"#000000\"/>\n<polygon fill=\"#000000\" points=\"148.0104,-78.609 150.2965,-68.2637 142.058,-74.9254 148.0104,-78.609\" stroke=\"#000000\"/>\n</g>\n<!-- 8 -->\n<g class=\"node\" id=\"node9\">\n<title>8</title>\n<polygon fill=\"#f2c09c\" points=\"415,-187 308,-187 308,-104 415,-104 415,-187\" stroke=\"#000000\"/>\n<text fill=\"#000000\" font-family=\"Helvetica,sans-Serif\" font-size=\"14.00\" text-anchor=\"middle\" x=\"361.5\" y=\"-171.8\">degree &lt;= 0.5</text>\n<text fill=\"#000000\" font-family=\"Helvetica,sans-Serif\" font-size=\"14.00\" text-anchor=\"middle\" x=\"361.5\" y=\"-156.8\">gini = 0.444</text>\n<text fill=\"#000000\" font-family=\"Helvetica,sans-Serif\" font-size=\"14.00\" text-anchor=\"middle\" x=\"361.5\" y=\"-141.8\">samples = 3</text>\n<text fill=\"#000000\" font-family=\"Helvetica,sans-Serif\" font-size=\"14.00\" text-anchor=\"middle\" x=\"361.5\" y=\"-126.8\">value = [2, 1]</text>\n<text fill=\"#000000\" font-family=\"Helvetica,sans-Serif\" font-size=\"14.00\" text-anchor=\"middle\" x=\"361.5\" y=\"-111.8\">class = 많다</text>\n</g>\n<!-- 7&#45;&gt;8 -->\n<g class=\"edge\" id=\"edge8\">\n<title>7-&gt;8</title>\n<path d=\"M361.5,-222.8796C361.5,-214.6838 361.5,-205.9891 361.5,-197.5013\" fill=\"none\" stroke=\"#000000\"/>\n<polygon fill=\"#000000\" points=\"365.0001,-197.298 361.5,-187.2981 358.0001,-197.2981 365.0001,-197.298\" stroke=\"#000000\"/>\n</g>\n<!-- 11 -->\n<g class=\"node\" id=\"node12\">\n<title>11</title>\n<polygon fill=\"#e58139\" points=\"532,-179.5 433,-179.5 433,-111.5 532,-111.5 532,-179.5\" stroke=\"#000000\"/>\n<text fill=\"#000000\" font-family=\"Helvetica,sans-Serif\" font-size=\"14.00\" text-anchor=\"middle\" x=\"482.5\" y=\"-164.3\">gini = 0.0</text>\n<text fill=\"#000000\" font-family=\"Helvetica,sans-Serif\" font-size=\"14.00\" text-anchor=\"middle\" x=\"482.5\" y=\"-149.3\">samples = 3</text>\n<text fill=\"#000000\" font-family=\"Helvetica,sans-Serif\" font-size=\"14.00\" text-anchor=\"middle\" x=\"482.5\" y=\"-134.3\">value = [3, 0]</text>\n<text fill=\"#000000\" font-family=\"Helvetica,sans-Serif\" font-size=\"14.00\" text-anchor=\"middle\" x=\"482.5\" y=\"-119.3\">class = 많다</text>\n</g>\n<!-- 7&#45;&gt;11 -->\n<g class=\"edge\" id=\"edge11\">\n<title>7-&gt;11</title>\n<path d=\"M403.8199,-222.8796C415.6717,-211.2237 428.5495,-198.5587 440.3891,-186.9148\" fill=\"none\" stroke=\"#000000\"/>\n<polygon fill=\"#000000\" points=\"442.9327,-189.3223 447.6083,-179.8149 438.0244,-184.3314 442.9327,-189.3223\" stroke=\"#000000\"/>\n</g>\n<!-- 9 -->\n<g class=\"node\" id=\"node10\">\n<title>9</title>\n<polygon fill=\"#e58139\" points=\"377,-68 278,-68 278,0 377,0 377,-68\" stroke=\"#000000\"/>\n<text fill=\"#000000\" font-family=\"Helvetica,sans-Serif\" font-size=\"14.00\" text-anchor=\"middle\" x=\"327.5\" y=\"-52.8\">gini = 0.0</text>\n<text fill=\"#000000\" font-family=\"Helvetica,sans-Serif\" font-size=\"14.00\" text-anchor=\"middle\" x=\"327.5\" y=\"-37.8\">samples = 2</text>\n<text fill=\"#000000\" font-family=\"Helvetica,sans-Serif\" font-size=\"14.00\" text-anchor=\"middle\" x=\"327.5\" y=\"-22.8\">value = [2, 0]</text>\n<text fill=\"#000000\" font-family=\"Helvetica,sans-Serif\" font-size=\"14.00\" text-anchor=\"middle\" x=\"327.5\" y=\"-7.8\">class = 많다</text>\n</g>\n<!-- 8&#45;&gt;9 -->\n<g class=\"edge\" id=\"edge9\">\n<title>8-&gt;9</title>\n<path d=\"M348.8397,-103.9815C346.2613,-95.5261 343.5403,-86.6026 340.936,-78.0623\" fill=\"none\" stroke=\"#000000\"/>\n<polygon fill=\"#000000\" points=\"344.2127,-76.808 337.9481,-68.2637 337.5171,-78.8497 344.2127,-76.808\" stroke=\"#000000\"/>\n</g>\n<!-- 10 -->\n<g class=\"node\" id=\"node11\">\n<title>10</title>\n<polygon fill=\"#399de5\" points=\"504,-68 395,-68 395,0 504,0 504,-68\" stroke=\"#000000\"/>\n<text fill=\"#000000\" font-family=\"Helvetica,sans-Serif\" font-size=\"14.00\" text-anchor=\"middle\" x=\"449.5\" y=\"-52.8\">gini = 0.0</text>\n<text fill=\"#000000\" font-family=\"Helvetica,sans-Serif\" font-size=\"14.00\" text-anchor=\"middle\" x=\"449.5\" y=\"-37.8\">samples = 1</text>\n<text fill=\"#000000\" font-family=\"Helvetica,sans-Serif\" font-size=\"14.00\" text-anchor=\"middle\" x=\"449.5\" y=\"-22.8\">value = [0, 1]</text>\n<text fill=\"#000000\" font-family=\"Helvetica,sans-Serif\" font-size=\"14.00\" text-anchor=\"middle\" x=\"449.5\" y=\"-7.8\">class = 아니다</text>\n</g>\n<!-- 8&#45;&gt;10 -->\n<g class=\"edge\" id=\"edge10\">\n<title>8-&gt;10</title>\n<path d=\"M394.268,-103.9815C401.449,-94.8828 409.0579,-85.242 416.2574,-76.1199\" fill=\"none\" stroke=\"#000000\"/>\n<polygon fill=\"#000000\" points=\"419.0099,-78.2818 422.4578,-68.2637 413.5151,-73.9451 419.0099,-78.2818\" stroke=\"#000000\"/>\n</g>\n</g>\n</svg>"
          },
          "metadata": {}
        }
      ]
    }
  ]
}